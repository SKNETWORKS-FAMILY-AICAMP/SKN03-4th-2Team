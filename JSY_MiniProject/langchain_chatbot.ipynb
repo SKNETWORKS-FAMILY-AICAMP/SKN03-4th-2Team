{
 "cells": [
  {
   "cell_type": "code",
   "execution_count": 1,
   "metadata": {},
   "outputs": [
    {
     "data": {
      "text/plain": [
       "True"
      ]
     },
     "execution_count": 1,
     "metadata": {},
     "output_type": "execute_result"
    }
   ],
   "source": [
    "from dotenv import load_dotenv\n",
    "# .env 파일에 등록된 변수(데이터)를 os 환경변수에 적용\n",
    "load_dotenv()"
   ]
  },
  {
   "cell_type": "code",
   "execution_count": 2,
   "metadata": {},
   "outputs": [],
   "source": [
    "from langchain_core.prompts import ChatPromptTemplate\n",
    "from langchain_openai import ChatOpenAI\n",
    "\n",
    "# 모델 생성\n",
    "chat = ChatOpenAI(\n",
    "    model=\"gpt-4o-mini\"\n",
    ")"
   ]
  },
  {
   "cell_type": "code",
   "execution_count": 3,
   "metadata": {},
   "outputs": [],
   "source": [
    "# 프롬프트 생성\n",
    "chat_prompt = ChatPromptTemplate.from_messages([\n",
    "    (\"assistant\", \"이 시스템은 여행 전문가입니다.\"),\n",
    "    (\"user\", \"{user_input}\"),\n",
    "])"
   ]
  },
  {
   "cell_type": "code",
   "execution_count": 4,
   "metadata": {},
   "outputs": [
    {
     "data": {
      "text/plain": [
       "['user_input']"
      ]
     },
     "execution_count": 4,
     "metadata": {},
     "output_type": "execute_result"
    }
   ],
   "source": [
    "chat_prompt.input_variables"
   ]
  },
  {
   "cell_type": "code",
   "execution_count": 5,
   "metadata": {},
   "outputs": [],
   "source": [
    "# 체인 생성 = 프롬프트 + 모델\n",
    "chain = chat_prompt | chat"
   ]
  },
  {
   "cell_type": "code",
   "execution_count": 6,
   "metadata": {},
   "outputs": [],
   "source": [
    "response = chain.invoke({\"user_input\": \"안녕하세요? 한국의 대표적인 관광지 3군데를 추천해주세요.\"})\n"
   ]
  },
  {
   "cell_type": "code",
   "execution_count": 7,
   "metadata": {},
   "outputs": [
    {
     "name": "stdout",
     "output_type": "stream",
     "text": [
      "==================================\u001b[1m Ai Message \u001b[0m==================================\n",
      "\n",
      "안녕하세요! 한국의 대표적인 관광지 3군데를 추천해드릴게요.\n",
      "\n",
      "1. **경복궁**: 서울에 위치한 경복궁은 조선 왕조의 주요 궁궐로, 아름다운 전통 건축물과 역사적인 의미가 깊습니다. 경복궁 내에는 국립민속박물관과 국립고궁박물관이 있어 한국의 역사와 문화를 더 깊이 이해할 수 있습니다. 매일 정오에 열리는 수문장 교대식도 놓치지 마세요.\n",
      "\n",
      "2. **제주도**: 제주도는 한국의 대표적인 관광지 중 하나로, 아름다운 자연 경관과 독특한 문화가 매력적입니다. 한라산, 성산 일출봉, 그리고 제주 올레길 등 다양한 자연 명소가 있으며, 맛있는 해산물과 감귤도 유명합니다. 특히 여름에는 해변에서 수영이나 다양한 수상 스포츠를 즐길 수 있습니다.\n",
      "\n",
      "3. **부산 해운대**: 부산의 해운대는 한국에서 가장 유명한 해변 중 하나로, 여름철에는 많은 관광객이 찾는 인기 명소입니다. 해운대 해변에서 일광욕이나 수영을 즐길 수 있으며, 주변에는 해운대 마린시티와 동백섬, 그리고 해운대 시장 등 다양한 볼거리와 먹거리가 있습니다.\n",
      "\n",
      "이 세 곳은 각각의 매력이 풍부하니, 여행 계획에 참고해보세요!\n"
     ]
    }
   ],
   "source": [
    "response.pretty_print()"
   ]
  },
  {
   "cell_type": "code",
   "execution_count": 9,
   "metadata": {},
   "outputs": [
    {
     "name": "stdout",
     "output_type": "stream",
     "text": [
      "안녕하세요! 한국의 대표적인 관광지 3군데를 추천해드릴게요.\n",
      "\n",
      "1. **경복궁**: 서울에 위치한 경복궁은 조선 왕조의 주요 궁궐로, 아름다운 전통 건축물과 역사적인 의미가 깊습니다. 경복궁 내에는 국립민속박물관과 국립고궁박물관이 있어 한국의 역사와 문화를 더 깊이 이해할 수 있습니다. 매일 정오에 열리는 수문장 교대식도 놓치지 마세요.\n",
      "\n",
      "2. **제주도**: 제주도는 한국의 대표적인 관광지 중 하나로, 아름다운 자연 경관과 독특한 문화가 매력적입니다. 한라산, 성산 일출봉, 그리고 제주 올레길 등 다양한 자연 명소가 있으며, 맛있는 해산물과 감귤도 유명합니다. 특히 여름에는 해변에서 수영이나 다양한 수상 스포츠를 즐길 수 있습니다.\n",
      "\n",
      "3. **부산 해운대**: 부산의 해운대는 한국에서 가장 유명한 해변 중 하나로, 여름철에는 많은 관광객이 찾는 인기 명소입니다. 해운대 해변에서 일광욕이나 수영을 즐길 수 있으며, 주변에는 해운대 마린시티와 동백섬, 그리고 해운대 시장 등 다양한 볼거리와 먹거리가 있습니다.\n",
      "\n",
      "이 세 곳은 각각의 매력이 풍부하니, 여행 계획에 참고해보세요!\n"
     ]
    }
   ],
   "source": [
    "print(response.content)"
   ]
  },
  {
   "cell_type": "code",
   "execution_count": 6,
   "metadata": {},
   "outputs": [
    {
     "name": "stdout",
     "output_type": "stream",
     "text": [
      "content='' additional_kwargs={} response_metadata={} id='run-750a5b3d-4737-4d09-bcd0-8d6263d9fcf4'\n",
      "content='안' additional_kwargs={} response_metadata={} id='run-750a5b3d-4737-4d09-bcd0-8d6263d9fcf4'\n",
      "content='녕하세요' additional_kwargs={} response_metadata={} id='run-750a5b3d-4737-4d09-bcd0-8d6263d9fcf4'\n",
      "content='!' additional_kwargs={} response_metadata={} id='run-750a5b3d-4737-4d09-bcd0-8d6263d9fcf4'\n",
      "content=' 한국' additional_kwargs={} response_metadata={} id='run-750a5b3d-4737-4d09-bcd0-8d6263d9fcf4'\n",
      "content='의' additional_kwargs={} response_metadata={} id='run-750a5b3d-4737-4d09-bcd0-8d6263d9fcf4'\n",
      "content=' 대표' additional_kwargs={} response_metadata={} id='run-750a5b3d-4737-4d09-bcd0-8d6263d9fcf4'\n",
      "content='적인' additional_kwargs={} response_metadata={} id='run-750a5b3d-4737-4d09-bcd0-8d6263d9fcf4'\n",
      "content=' 관광' additional_kwargs={} response_metadata={} id='run-750a5b3d-4737-4d09-bcd0-8d6263d9fcf4'\n",
      "content='지' additional_kwargs={} response_metadata={} id='run-750a5b3d-4737-4d09-bcd0-8d6263d9fcf4'\n",
      "content=' ' additional_kwargs={} response_metadata={} id='run-750a5b3d-4737-4d09-bcd0-8d6263d9fcf4'\n",
      "content='3' additional_kwargs={} response_metadata={} id='run-750a5b3d-4737-4d09-bcd0-8d6263d9fcf4'\n",
      "content='곳' additional_kwargs={} response_metadata={} id='run-750a5b3d-4737-4d09-bcd0-8d6263d9fcf4'\n",
      "content='을' additional_kwargs={} response_metadata={} id='run-750a5b3d-4737-4d09-bcd0-8d6263d9fcf4'\n",
      "content=' 추천' additional_kwargs={} response_metadata={} id='run-750a5b3d-4737-4d09-bcd0-8d6263d9fcf4'\n",
      "content='해' additional_kwargs={} response_metadata={} id='run-750a5b3d-4737-4d09-bcd0-8d6263d9fcf4'\n",
      "content='드' additional_kwargs={} response_metadata={} id='run-750a5b3d-4737-4d09-bcd0-8d6263d9fcf4'\n",
      "content='릴' additional_kwargs={} response_metadata={} id='run-750a5b3d-4737-4d09-bcd0-8d6263d9fcf4'\n",
      "content='게' additional_kwargs={} response_metadata={} id='run-750a5b3d-4737-4d09-bcd0-8d6263d9fcf4'\n",
      "content='요' additional_kwargs={} response_metadata={} id='run-750a5b3d-4737-4d09-bcd0-8d6263d9fcf4'\n",
      "content='.\\n\\n' additional_kwargs={} response_metadata={} id='run-750a5b3d-4737-4d09-bcd0-8d6263d9fcf4'\n",
      "content='1' additional_kwargs={} response_metadata={} id='run-750a5b3d-4737-4d09-bcd0-8d6263d9fcf4'\n",
      "content='.' additional_kwargs={} response_metadata={} id='run-750a5b3d-4737-4d09-bcd0-8d6263d9fcf4'\n",
      "content=' **' additional_kwargs={} response_metadata={} id='run-750a5b3d-4737-4d09-bcd0-8d6263d9fcf4'\n",
      "content='서울' additional_kwargs={} response_metadata={} id='run-750a5b3d-4737-4d09-bcd0-8d6263d9fcf4'\n",
      "content=' 경' additional_kwargs={} response_metadata={} id='run-750a5b3d-4737-4d09-bcd0-8d6263d9fcf4'\n",
      "content='복' additional_kwargs={} response_metadata={} id='run-750a5b3d-4737-4d09-bcd0-8d6263d9fcf4'\n",
      "content='궁' additional_kwargs={} response_metadata={} id='run-750a5b3d-4737-4d09-bcd0-8d6263d9fcf4'\n",
      "content='**' additional_kwargs={} response_metadata={} id='run-750a5b3d-4737-4d09-bcd0-8d6263d9fcf4'\n",
      "content=':' additional_kwargs={} response_metadata={} id='run-750a5b3d-4737-4d09-bcd0-8d6263d9fcf4'\n",
      "content=' 한국' additional_kwargs={} response_metadata={} id='run-750a5b3d-4737-4d09-bcd0-8d6263d9fcf4'\n",
      "content='의' additional_kwargs={} response_metadata={} id='run-750a5b3d-4737-4d09-bcd0-8d6263d9fcf4'\n",
      "content=' 전' additional_kwargs={} response_metadata={} id='run-750a5b3d-4737-4d09-bcd0-8d6263d9fcf4'\n",
      "content='통' additional_kwargs={} response_metadata={} id='run-750a5b3d-4737-4d09-bcd0-8d6263d9fcf4'\n",
      "content=' 궁' additional_kwargs={} response_metadata={} id='run-750a5b3d-4737-4d09-bcd0-8d6263d9fcf4'\n",
      "content='궐' additional_kwargs={} response_metadata={} id='run-750a5b3d-4737-4d09-bcd0-8d6263d9fcf4'\n",
      "content=' 중' additional_kwargs={} response_metadata={} id='run-750a5b3d-4737-4d09-bcd0-8d6263d9fcf4'\n",
      "content=' 하나' additional_kwargs={} response_metadata={} id='run-750a5b3d-4737-4d09-bcd0-8d6263d9fcf4'\n",
      "content='로' additional_kwargs={} response_metadata={} id='run-750a5b3d-4737-4d09-bcd0-8d6263d9fcf4'\n",
      "content=',' additional_kwargs={} response_metadata={} id='run-750a5b3d-4737-4d09-bcd0-8d6263d9fcf4'\n",
      "content=' 조' additional_kwargs={} response_metadata={} id='run-750a5b3d-4737-4d09-bcd0-8d6263d9fcf4'\n",
      "content='선' additional_kwargs={} response_metadata={} id='run-750a5b3d-4737-4d09-bcd0-8d6263d9fcf4'\n",
      "content=' 시대' additional_kwargs={} response_metadata={} id='run-750a5b3d-4737-4d09-bcd0-8d6263d9fcf4'\n",
      "content='의' additional_kwargs={} response_metadata={} id='run-750a5b3d-4737-4d09-bcd0-8d6263d9fcf4'\n",
      "content=' 역사' additional_kwargs={} response_metadata={} id='run-750a5b3d-4737-4d09-bcd0-8d6263d9fcf4'\n",
      "content='와' additional_kwargs={} response_metadata={} id='run-750a5b3d-4737-4d09-bcd0-8d6263d9fcf4'\n",
      "content=' 문' additional_kwargs={} response_metadata={} id='run-750a5b3d-4737-4d09-bcd0-8d6263d9fcf4'\n",
      "content='화를' additional_kwargs={} response_metadata={} id='run-750a5b3d-4737-4d09-bcd0-8d6263d9fcf4'\n",
      "content=' 느' additional_kwargs={} response_metadata={} id='run-750a5b3d-4737-4d09-bcd0-8d6263d9fcf4'\n",
      "content='낄' additional_kwargs={} response_metadata={} id='run-750a5b3d-4737-4d09-bcd0-8d6263d9fcf4'\n",
      "content=' 수' additional_kwargs={} response_metadata={} id='run-750a5b3d-4737-4d09-bcd0-8d6263d9fcf4'\n",
      "content=' 있는' additional_kwargs={} response_metadata={} id='run-750a5b3d-4737-4d09-bcd0-8d6263d9fcf4'\n",
      "content=' 장소' additional_kwargs={} response_metadata={} id='run-750a5b3d-4737-4d09-bcd0-8d6263d9fcf4'\n",
      "content='입니다' additional_kwargs={} response_metadata={} id='run-750a5b3d-4737-4d09-bcd0-8d6263d9fcf4'\n",
      "content='.' additional_kwargs={} response_metadata={} id='run-750a5b3d-4737-4d09-bcd0-8d6263d9fcf4'\n",
      "content=' 아름' additional_kwargs={} response_metadata={} id='run-750a5b3d-4737-4d09-bcd0-8d6263d9fcf4'\n",
      "content='다운' additional_kwargs={} response_metadata={} id='run-750a5b3d-4737-4d09-bcd0-8d6263d9fcf4'\n",
      "content=' 건' additional_kwargs={} response_metadata={} id='run-750a5b3d-4737-4d09-bcd0-8d6263d9fcf4'\n",
      "content='축' additional_kwargs={} response_metadata={} id='run-750a5b3d-4737-4d09-bcd0-8d6263d9fcf4'\n",
      "content='물' additional_kwargs={} response_metadata={} id='run-750a5b3d-4737-4d09-bcd0-8d6263d9fcf4'\n",
      "content='과' additional_kwargs={} response_metadata={} id='run-750a5b3d-4737-4d09-bcd0-8d6263d9fcf4'\n",
      "content=' 정' additional_kwargs={} response_metadata={} id='run-750a5b3d-4737-4d09-bcd0-8d6263d9fcf4'\n",
      "content='원' additional_kwargs={} response_metadata={} id='run-750a5b3d-4737-4d09-bcd0-8d6263d9fcf4'\n",
      "content=',' additional_kwargs={} response_metadata={} id='run-750a5b3d-4737-4d09-bcd0-8d6263d9fcf4'\n",
      "content=' 그리고' additional_kwargs={} response_metadata={} id='run-750a5b3d-4737-4d09-bcd0-8d6263d9fcf4'\n",
      "content=' 매' additional_kwargs={} response_metadata={} id='run-750a5b3d-4737-4d09-bcd0-8d6263d9fcf4'\n",
      "content='일' additional_kwargs={} response_metadata={} id='run-750a5b3d-4737-4d09-bcd0-8d6263d9fcf4'\n",
      "content=' 열' additional_kwargs={} response_metadata={} id='run-750a5b3d-4737-4d09-bcd0-8d6263d9fcf4'\n",
      "content='리는' additional_kwargs={} response_metadata={} id='run-750a5b3d-4737-4d09-bcd0-8d6263d9fcf4'\n",
      "content=' 수' additional_kwargs={} response_metadata={} id='run-750a5b3d-4737-4d09-bcd0-8d6263d9fcf4'\n",
      "content='문' additional_kwargs={} response_metadata={} id='run-750a5b3d-4737-4d09-bcd0-8d6263d9fcf4'\n",
      "content='장' additional_kwargs={} response_metadata={} id='run-750a5b3d-4737-4d09-bcd0-8d6263d9fcf4'\n",
      "content=' 교' additional_kwargs={} response_metadata={} id='run-750a5b3d-4737-4d09-bcd0-8d6263d9fcf4'\n",
      "content='대' additional_kwargs={} response_metadata={} id='run-750a5b3d-4737-4d09-bcd0-8d6263d9fcf4'\n",
      "content='식' additional_kwargs={} response_metadata={} id='run-750a5b3d-4737-4d09-bcd0-8d6263d9fcf4'\n",
      "content='이' additional_kwargs={} response_metadata={} id='run-750a5b3d-4737-4d09-bcd0-8d6263d9fcf4'\n",
      "content=' 인기' additional_kwargs={} response_metadata={} id='run-750a5b3d-4737-4d09-bcd0-8d6263d9fcf4'\n",
      "content='입니다' additional_kwargs={} response_metadata={} id='run-750a5b3d-4737-4d09-bcd0-8d6263d9fcf4'\n",
      "content='.\\n\\n' additional_kwargs={} response_metadata={} id='run-750a5b3d-4737-4d09-bcd0-8d6263d9fcf4'\n",
      "content='2' additional_kwargs={} response_metadata={} id='run-750a5b3d-4737-4d09-bcd0-8d6263d9fcf4'\n",
      "content='.' additional_kwargs={} response_metadata={} id='run-750a5b3d-4737-4d09-bcd0-8d6263d9fcf4'\n",
      "content=' **' additional_kwargs={} response_metadata={} id='run-750a5b3d-4737-4d09-bcd0-8d6263d9fcf4'\n",
      "content='부' additional_kwargs={} response_metadata={} id='run-750a5b3d-4737-4d09-bcd0-8d6263d9fcf4'\n",
      "content='산' additional_kwargs={} response_metadata={} id='run-750a5b3d-4737-4d09-bcd0-8d6263d9fcf4'\n",
      "content=' 해' additional_kwargs={} response_metadata={} id='run-750a5b3d-4737-4d09-bcd0-8d6263d9fcf4'\n",
      "content='운' additional_kwargs={} response_metadata={} id='run-750a5b3d-4737-4d09-bcd0-8d6263d9fcf4'\n",
      "content='대' additional_kwargs={} response_metadata={} id='run-750a5b3d-4737-4d09-bcd0-8d6263d9fcf4'\n",
      "content='**' additional_kwargs={} response_metadata={} id='run-750a5b3d-4737-4d09-bcd0-8d6263d9fcf4'\n",
      "content=':' additional_kwargs={} response_metadata={} id='run-750a5b3d-4737-4d09-bcd0-8d6263d9fcf4'\n",
      "content=' 부산' additional_kwargs={} response_metadata={} id='run-750a5b3d-4737-4d09-bcd0-8d6263d9fcf4'\n",
      "content='의' additional_kwargs={} response_metadata={} id='run-750a5b3d-4737-4d09-bcd0-8d6263d9fcf4'\n",
      "content=' 대표' additional_kwargs={} response_metadata={} id='run-750a5b3d-4737-4d09-bcd0-8d6263d9fcf4'\n",
      "content='적인' additional_kwargs={} response_metadata={} id='run-750a5b3d-4737-4d09-bcd0-8d6263d9fcf4'\n",
      "content=' 해' additional_kwargs={} response_metadata={} id='run-750a5b3d-4737-4d09-bcd0-8d6263d9fcf4'\n",
      "content='변' additional_kwargs={} response_metadata={} id='run-750a5b3d-4737-4d09-bcd0-8d6263d9fcf4'\n",
      "content='으로' additional_kwargs={} response_metadata={} id='run-750a5b3d-4737-4d09-bcd0-8d6263d9fcf4'\n",
      "content=',' additional_kwargs={} response_metadata={} id='run-750a5b3d-4737-4d09-bcd0-8d6263d9fcf4'\n",
      "content=' 여' additional_kwargs={} response_metadata={} id='run-750a5b3d-4737-4d09-bcd0-8d6263d9fcf4'\n",
      "content='름' additional_kwargs={} response_metadata={} id='run-750a5b3d-4737-4d09-bcd0-8d6263d9fcf4'\n",
      "content='철' additional_kwargs={} response_metadata={} id='run-750a5b3d-4737-4d09-bcd0-8d6263d9fcf4'\n",
      "content='에는' additional_kwargs={} response_metadata={} id='run-750a5b3d-4737-4d09-bcd0-8d6263d9fcf4'\n",
      "content=' 많은' additional_kwargs={} response_metadata={} id='run-750a5b3d-4737-4d09-bcd0-8d6263d9fcf4'\n",
      "content=' 관광' additional_kwargs={} response_metadata={} id='run-750a5b3d-4737-4d09-bcd0-8d6263d9fcf4'\n",
      "content='객' additional_kwargs={} response_metadata={} id='run-750a5b3d-4737-4d09-bcd0-8d6263d9fcf4'\n",
      "content='이' additional_kwargs={} response_metadata={} id='run-750a5b3d-4737-4d09-bcd0-8d6263d9fcf4'\n",
      "content=' 찾' additional_kwargs={} response_metadata={} id='run-750a5b3d-4737-4d09-bcd0-8d6263d9fcf4'\n",
      "content='는' additional_kwargs={} response_metadata={} id='run-750a5b3d-4737-4d09-bcd0-8d6263d9fcf4'\n",
      "content=' 명' additional_kwargs={} response_metadata={} id='run-750a5b3d-4737-4d09-bcd0-8d6263d9fcf4'\n",
      "content='소' additional_kwargs={} response_metadata={} id='run-750a5b3d-4737-4d09-bcd0-8d6263d9fcf4'\n",
      "content='입니다' additional_kwargs={} response_metadata={} id='run-750a5b3d-4737-4d09-bcd0-8d6263d9fcf4'\n",
      "content='.' additional_kwargs={} response_metadata={} id='run-750a5b3d-4737-4d09-bcd0-8d6263d9fcf4'\n",
      "content=' 해' additional_kwargs={} response_metadata={} id='run-750a5b3d-4737-4d09-bcd0-8d6263d9fcf4'\n",
      "content='운' additional_kwargs={} response_metadata={} id='run-750a5b3d-4737-4d09-bcd0-8d6263d9fcf4'\n",
      "content='대' additional_kwargs={} response_metadata={} id='run-750a5b3d-4737-4d09-bcd0-8d6263d9fcf4'\n",
      "content=' 해' additional_kwargs={} response_metadata={} id='run-750a5b3d-4737-4d09-bcd0-8d6263d9fcf4'\n",
      "content='수' additional_kwargs={} response_metadata={} id='run-750a5b3d-4737-4d09-bcd0-8d6263d9fcf4'\n",
      "content='욕' additional_kwargs={} response_metadata={} id='run-750a5b3d-4737-4d09-bcd0-8d6263d9fcf4'\n",
      "content='장' additional_kwargs={} response_metadata={} id='run-750a5b3d-4737-4d09-bcd0-8d6263d9fcf4'\n",
      "content='에서는' additional_kwargs={} response_metadata={} id='run-750a5b3d-4737-4d09-bcd0-8d6263d9fcf4'\n",
      "content=' 수' additional_kwargs={} response_metadata={} id='run-750a5b3d-4737-4d09-bcd0-8d6263d9fcf4'\n",
      "content='영' additional_kwargs={} response_metadata={} id='run-750a5b3d-4737-4d09-bcd0-8d6263d9fcf4'\n",
      "content='과' additional_kwargs={} response_metadata={} id='run-750a5b3d-4737-4d09-bcd0-8d6263d9fcf4'\n",
      "content=' 일' additional_kwargs={} response_metadata={} id='run-750a5b3d-4737-4d09-bcd0-8d6263d9fcf4'\n",
      "content='광' additional_kwargs={} response_metadata={} id='run-750a5b3d-4737-4d09-bcd0-8d6263d9fcf4'\n",
      "content='욕' additional_kwargs={} response_metadata={} id='run-750a5b3d-4737-4d09-bcd0-8d6263d9fcf4'\n",
      "content='을' additional_kwargs={} response_metadata={} id='run-750a5b3d-4737-4d09-bcd0-8d6263d9fcf4'\n",
      "content=' 즐' additional_kwargs={} response_metadata={} id='run-750a5b3d-4737-4d09-bcd0-8d6263d9fcf4'\n",
      "content='길' additional_kwargs={} response_metadata={} id='run-750a5b3d-4737-4d09-bcd0-8d6263d9fcf4'\n",
      "content=' 수' additional_kwargs={} response_metadata={} id='run-750a5b3d-4737-4d09-bcd0-8d6263d9fcf4'\n",
      "content=' 있고' additional_kwargs={} response_metadata={} id='run-750a5b3d-4737-4d09-bcd0-8d6263d9fcf4'\n",
      "content=',' additional_kwargs={} response_metadata={} id='run-750a5b3d-4737-4d09-bcd0-8d6263d9fcf4'\n",
      "content=' 근' additional_kwargs={} response_metadata={} id='run-750a5b3d-4737-4d09-bcd0-8d6263d9fcf4'\n",
      "content='처' additional_kwargs={} response_metadata={} id='run-750a5b3d-4737-4d09-bcd0-8d6263d9fcf4'\n",
      "content='에는' additional_kwargs={} response_metadata={} id='run-750a5b3d-4737-4d09-bcd0-8d6263d9fcf4'\n",
      "content=' 다양한' additional_kwargs={} response_metadata={} id='run-750a5b3d-4737-4d09-bcd0-8d6263d9fcf4'\n",
      "content=' 음식' additional_kwargs={} response_metadata={} id='run-750a5b3d-4737-4d09-bcd0-8d6263d9fcf4'\n",
      "content='점' additional_kwargs={} response_metadata={} id='run-750a5b3d-4737-4d09-bcd0-8d6263d9fcf4'\n",
      "content='과' additional_kwargs={} response_metadata={} id='run-750a5b3d-4737-4d09-bcd0-8d6263d9fcf4'\n",
      "content=' 카' additional_kwargs={} response_metadata={} id='run-750a5b3d-4737-4d09-bcd0-8d6263d9fcf4'\n",
      "content='페' additional_kwargs={} response_metadata={} id='run-750a5b3d-4737-4d09-bcd0-8d6263d9fcf4'\n",
      "content='도' additional_kwargs={} response_metadata={} id='run-750a5b3d-4737-4d09-bcd0-8d6263d9fcf4'\n",
      "content=' 있어' additional_kwargs={} response_metadata={} id='run-750a5b3d-4737-4d09-bcd0-8d6263d9fcf4'\n",
      "content=' 즐' additional_kwargs={} response_metadata={} id='run-750a5b3d-4737-4d09-bcd0-8d6263d9fcf4'\n",
      "content='길' additional_kwargs={} response_metadata={} id='run-750a5b3d-4737-4d09-bcd0-8d6263d9fcf4'\n",
      "content=' 거' additional_kwargs={} response_metadata={} id='run-750a5b3d-4737-4d09-bcd0-8d6263d9fcf4'\n",
      "content='리가' additional_kwargs={} response_metadata={} id='run-750a5b3d-4737-4d09-bcd0-8d6263d9fcf4'\n",
      "content=' 많' additional_kwargs={} response_metadata={} id='run-750a5b3d-4737-4d09-bcd0-8d6263d9fcf4'\n",
      "content='습니다' additional_kwargs={} response_metadata={} id='run-750a5b3d-4737-4d09-bcd0-8d6263d9fcf4'\n",
      "content='.\\n\\n' additional_kwargs={} response_metadata={} id='run-750a5b3d-4737-4d09-bcd0-8d6263d9fcf4'\n",
      "content='3' additional_kwargs={} response_metadata={} id='run-750a5b3d-4737-4d09-bcd0-8d6263d9fcf4'\n",
      "content='.' additional_kwargs={} response_metadata={} id='run-750a5b3d-4737-4d09-bcd0-8d6263d9fcf4'\n",
      "content=' **' additional_kwargs={} response_metadata={} id='run-750a5b3d-4737-4d09-bcd0-8d6263d9fcf4'\n",
      "content='제' additional_kwargs={} response_metadata={} id='run-750a5b3d-4737-4d09-bcd0-8d6263d9fcf4'\n",
      "content='주' additional_kwargs={} response_metadata={} id='run-750a5b3d-4737-4d09-bcd0-8d6263d9fcf4'\n",
      "content='도' additional_kwargs={} response_metadata={} id='run-750a5b3d-4737-4d09-bcd0-8d6263d9fcf4'\n",
      "content='**' additional_kwargs={} response_metadata={} id='run-750a5b3d-4737-4d09-bcd0-8d6263d9fcf4'\n",
      "content=':' additional_kwargs={} response_metadata={} id='run-750a5b3d-4737-4d09-bcd0-8d6263d9fcf4'\n",
      "content=' 자연' additional_kwargs={} response_metadata={} id='run-750a5b3d-4737-4d09-bcd0-8d6263d9fcf4'\n",
      "content=' 경' additional_kwargs={} response_metadata={} id='run-750a5b3d-4737-4d09-bcd0-8d6263d9fcf4'\n",
      "content='관' additional_kwargs={} response_metadata={} id='run-750a5b3d-4737-4d09-bcd0-8d6263d9fcf4'\n",
      "content='이' additional_kwargs={} response_metadata={} id='run-750a5b3d-4737-4d09-bcd0-8d6263d9fcf4'\n",
      "content=' 아름' additional_kwargs={} response_metadata={} id='run-750a5b3d-4737-4d09-bcd0-8d6263d9fcf4'\n",
      "content='다운' additional_kwargs={} response_metadata={} id='run-750a5b3d-4737-4d09-bcd0-8d6263d9fcf4'\n",
      "content=' 제주' additional_kwargs={} response_metadata={} id='run-750a5b3d-4737-4d09-bcd0-8d6263d9fcf4'\n",
      "content='도' additional_kwargs={} response_metadata={} id='run-750a5b3d-4737-4d09-bcd0-8d6263d9fcf4'\n",
      "content='는' additional_kwargs={} response_metadata={} id='run-750a5b3d-4737-4d09-bcd0-8d6263d9fcf4'\n",
      "content=' 한국' additional_kwargs={} response_metadata={} id='run-750a5b3d-4737-4d09-bcd0-8d6263d9fcf4'\n",
      "content='에서' additional_kwargs={} response_metadata={} id='run-750a5b3d-4737-4d09-bcd0-8d6263d9fcf4'\n",
      "content=' 가장' additional_kwargs={} response_metadata={} id='run-750a5b3d-4737-4d09-bcd0-8d6263d9fcf4'\n",
      "content=' 인기' additional_kwargs={} response_metadata={} id='run-750a5b3d-4737-4d09-bcd0-8d6263d9fcf4'\n",
      "content=' 있는' additional_kwargs={} response_metadata={} id='run-750a5b3d-4737-4d09-bcd0-8d6263d9fcf4'\n",
      "content=' 여행' additional_kwargs={} response_metadata={} id='run-750a5b3d-4737-4d09-bcd0-8d6263d9fcf4'\n",
      "content='지' additional_kwargs={} response_metadata={} id='run-750a5b3d-4737-4d09-bcd0-8d6263d9fcf4'\n",
      "content=' 중' additional_kwargs={} response_metadata={} id='run-750a5b3d-4737-4d09-bcd0-8d6263d9fcf4'\n",
      "content=' 하나' additional_kwargs={} response_metadata={} id='run-750a5b3d-4737-4d09-bcd0-8d6263d9fcf4'\n",
      "content='입니다' additional_kwargs={} response_metadata={} id='run-750a5b3d-4737-4d09-bcd0-8d6263d9fcf4'\n",
      "content='.' additional_kwargs={} response_metadata={} id='run-750a5b3d-4737-4d09-bcd0-8d6263d9fcf4'\n",
      "content=' 한' additional_kwargs={} response_metadata={} id='run-750a5b3d-4737-4d09-bcd0-8d6263d9fcf4'\n",
      "content='라' additional_kwargs={} response_metadata={} id='run-750a5b3d-4737-4d09-bcd0-8d6263d9fcf4'\n",
      "content='산' additional_kwargs={} response_metadata={} id='run-750a5b3d-4737-4d09-bcd0-8d6263d9fcf4'\n",
      "content=',' additional_kwargs={} response_metadata={} id='run-750a5b3d-4737-4d09-bcd0-8d6263d9fcf4'\n",
      "content=' 성' additional_kwargs={} response_metadata={} id='run-750a5b3d-4737-4d09-bcd0-8d6263d9fcf4'\n",
      "content='산' additional_kwargs={} response_metadata={} id='run-750a5b3d-4737-4d09-bcd0-8d6263d9fcf4'\n",
      "content=' 일' additional_kwargs={} response_metadata={} id='run-750a5b3d-4737-4d09-bcd0-8d6263d9fcf4'\n",
      "content='출' additional_kwargs={} response_metadata={} id='run-750a5b3d-4737-4d09-bcd0-8d6263d9fcf4'\n",
      "content='봉' additional_kwargs={} response_metadata={} id='run-750a5b3d-4737-4d09-bcd0-8d6263d9fcf4'\n",
      "content=',' additional_kwargs={} response_metadata={} id='run-750a5b3d-4737-4d09-bcd0-8d6263d9fcf4'\n",
      "content=' 그리고' additional_kwargs={} response_metadata={} id='run-750a5b3d-4737-4d09-bcd0-8d6263d9fcf4'\n",
      "content=' 여러' additional_kwargs={} response_metadata={} id='run-750a5b3d-4737-4d09-bcd0-8d6263d9fcf4'\n",
      "content=' 폭' additional_kwargs={} response_metadata={} id='run-750a5b3d-4737-4d09-bcd0-8d6263d9fcf4'\n",
      "content='포' additional_kwargs={} response_metadata={} id='run-750a5b3d-4737-4d09-bcd0-8d6263d9fcf4'\n",
      "content='와' additional_kwargs={} response_metadata={} id='run-750a5b3d-4737-4d09-bcd0-8d6263d9fcf4'\n",
      "content=' 해' additional_kwargs={} response_metadata={} id='run-750a5b3d-4737-4d09-bcd0-8d6263d9fcf4'\n",
      "content='안' additional_kwargs={} response_metadata={} id='run-750a5b3d-4737-4d09-bcd0-8d6263d9fcf4'\n",
      "content=' 절' additional_kwargs={} response_metadata={} id='run-750a5b3d-4737-4d09-bcd0-8d6263d9fcf4'\n",
      "content='경' additional_kwargs={} response_metadata={} id='run-750a5b3d-4737-4d09-bcd0-8d6263d9fcf4'\n",
      "content='이' additional_kwargs={} response_metadata={} id='run-750a5b3d-4737-4d09-bcd0-8d6263d9fcf4'\n",
      "content=' 있어' additional_kwargs={} response_metadata={} id='run-750a5b3d-4737-4d09-bcd0-8d6263d9fcf4'\n",
      "content=' 다양한' additional_kwargs={} response_metadata={} id='run-750a5b3d-4737-4d09-bcd0-8d6263d9fcf4'\n",
      "content=' 액' additional_kwargs={} response_metadata={} id='run-750a5b3d-4737-4d09-bcd0-8d6263d9fcf4'\n",
      "content='티' additional_kwargs={} response_metadata={} id='run-750a5b3d-4737-4d09-bcd0-8d6263d9fcf4'\n",
      "content='비' additional_kwargs={} response_metadata={} id='run-750a5b3d-4737-4d09-bcd0-8d6263d9fcf4'\n",
      "content='티' additional_kwargs={} response_metadata={} id='run-750a5b3d-4737-4d09-bcd0-8d6263d9fcf4'\n",
      "content='와' additional_kwargs={} response_metadata={} id='run-750a5b3d-4737-4d09-bcd0-8d6263d9fcf4'\n",
      "content=' 관광' additional_kwargs={} response_metadata={} id='run-750a5b3d-4737-4d09-bcd0-8d6263d9fcf4'\n",
      "content='을' additional_kwargs={} response_metadata={} id='run-750a5b3d-4737-4d09-bcd0-8d6263d9fcf4'\n",
      "content=' 즐' additional_kwargs={} response_metadata={} id='run-750a5b3d-4737-4d09-bcd0-8d6263d9fcf4'\n",
      "content='길' additional_kwargs={} response_metadata={} id='run-750a5b3d-4737-4d09-bcd0-8d6263d9fcf4'\n",
      "content=' 수' additional_kwargs={} response_metadata={} id='run-750a5b3d-4737-4d09-bcd0-8d6263d9fcf4'\n",
      "content=' 있습니다' additional_kwargs={} response_metadata={} id='run-750a5b3d-4737-4d09-bcd0-8d6263d9fcf4'\n",
      "content='.\\n\\n' additional_kwargs={} response_metadata={} id='run-750a5b3d-4737-4d09-bcd0-8d6263d9fcf4'\n",
      "content='이' additional_kwargs={} response_metadata={} id='run-750a5b3d-4737-4d09-bcd0-8d6263d9fcf4'\n",
      "content=' 외' additional_kwargs={} response_metadata={} id='run-750a5b3d-4737-4d09-bcd0-8d6263d9fcf4'\n",
      "content='에도' additional_kwargs={} response_metadata={} id='run-750a5b3d-4737-4d09-bcd0-8d6263d9fcf4'\n",
      "content=' 한국' additional_kwargs={} response_metadata={} id='run-750a5b3d-4737-4d09-bcd0-8d6263d9fcf4'\n",
      "content='에는' additional_kwargs={} response_metadata={} id='run-750a5b3d-4737-4d09-bcd0-8d6263d9fcf4'\n",
      "content=' 많은' additional_kwargs={} response_metadata={} id='run-750a5b3d-4737-4d09-bcd0-8d6263d9fcf4'\n",
      "content=' 매' additional_kwargs={} response_metadata={} id='run-750a5b3d-4737-4d09-bcd0-8d6263d9fcf4'\n",
      "content='력' additional_kwargs={} response_metadata={} id='run-750a5b3d-4737-4d09-bcd0-8d6263d9fcf4'\n",
      "content='적인' additional_kwargs={} response_metadata={} id='run-750a5b3d-4737-4d09-bcd0-8d6263d9fcf4'\n",
      "content=' 관광' additional_kwargs={} response_metadata={} id='run-750a5b3d-4737-4d09-bcd0-8d6263d9fcf4'\n",
      "content='지가' additional_kwargs={} response_metadata={} id='run-750a5b3d-4737-4d09-bcd0-8d6263d9fcf4'\n",
      "content=' 있으' additional_kwargs={} response_metadata={} id='run-750a5b3d-4737-4d09-bcd0-8d6263d9fcf4'\n",
      "content='니' additional_kwargs={} response_metadata={} id='run-750a5b3d-4737-4d09-bcd0-8d6263d9fcf4'\n",
      "content=',' additional_kwargs={} response_metadata={} id='run-750a5b3d-4737-4d09-bcd0-8d6263d9fcf4'\n",
      "content=' 방문' additional_kwargs={} response_metadata={} id='run-750a5b3d-4737-4d09-bcd0-8d6263d9fcf4'\n",
      "content=' 계획' additional_kwargs={} response_metadata={} id='run-750a5b3d-4737-4d09-bcd0-8d6263d9fcf4'\n",
      "content='에' additional_kwargs={} response_metadata={} id='run-750a5b3d-4737-4d09-bcd0-8d6263d9fcf4'\n",
      "content=' 따라' additional_kwargs={} response_metadata={} id='run-750a5b3d-4737-4d09-bcd0-8d6263d9fcf4'\n",
      "content=' 다양한' additional_kwargs={} response_metadata={} id='run-750a5b3d-4737-4d09-bcd0-8d6263d9fcf4'\n",
      "content=' 곳' additional_kwargs={} response_metadata={} id='run-750a5b3d-4737-4d09-bcd0-8d6263d9fcf4'\n",
      "content='을' additional_kwargs={} response_metadata={} id='run-750a5b3d-4737-4d09-bcd0-8d6263d9fcf4'\n",
      "content=' 경험' additional_kwargs={} response_metadata={} id='run-750a5b3d-4737-4d09-bcd0-8d6263d9fcf4'\n",
      "content='해' additional_kwargs={} response_metadata={} id='run-750a5b3d-4737-4d09-bcd0-8d6263d9fcf4'\n",
      "content='보' additional_kwargs={} response_metadata={} id='run-750a5b3d-4737-4d09-bcd0-8d6263d9fcf4'\n",
      "content='세요' additional_kwargs={} response_metadata={} id='run-750a5b3d-4737-4d09-bcd0-8d6263d9fcf4'\n",
      "content='!' additional_kwargs={} response_metadata={} id='run-750a5b3d-4737-4d09-bcd0-8d6263d9fcf4'\n",
      "content='' additional_kwargs={} response_metadata={'finish_reason': 'stop', 'model_name': 'gpt-4o-mini-2024-07-18', 'system_fingerprint': 'fp_f59a81427f'} id='run-750a5b3d-4737-4d09-bcd0-8d6263d9fcf4'\n"
     ]
    }
   ],
   "source": [
    "for tmp in chain.stream({\"user_input\": \"안녕하세요? 한국의 대표적인 관광지 3군데를 추천해주세요.\"}):\n",
    "    print(tmp.content)"
   ]
  },
  {
   "cell_type": "code",
   "execution_count": null,
   "metadata": {},
   "outputs": [],
   "source": []
  }
 ],
 "metadata": {
  "kernelspec": {
   "display_name": ".venv",
   "language": "python",
   "name": "python3"
  },
  "language_info": {
   "codemirror_mode": {
    "name": "ipython",
    "version": 3
   },
   "file_extension": ".py",
   "mimetype": "text/x-python",
   "name": "python",
   "nbconvert_exporter": "python",
   "pygments_lexer": "ipython3",
   "version": "3.12.4"
  }
 },
 "nbformat": 4,
 "nbformat_minor": 2
}
