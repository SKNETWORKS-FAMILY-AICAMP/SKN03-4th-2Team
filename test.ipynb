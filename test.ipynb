{
 "cells": [
  {
   "cell_type": "code",
   "execution_count": 1,
   "metadata": {},
   "outputs": [],
   "source": [
    "from langchain.agents import create_openai_functions_agent\n",
    "from langchain_core.agents import AgentFinish\n",
    "from langgraph.prebuilt.tool_executor import ToolExecutor\n",
    "\n",
    "def create_agent(client, tools, prompt):\n",
    "    return create_openai_functions_agent(client, tools, prompt)\n",
    "\n",
    "def agent_excute(agent_outcome, tools):\n",
    "    tool_executor = ToolExecutor(tools)\n",
    "    return tool_executor.invoke(agent_outcome)\n",
    "\n",
    "def is_agent_finish(agent_outcome):\n",
    "    return isinstance(agent_outcome, AgentFinish)"
   ]
  },
  {
   "cell_type": "code",
   "execution_count": 2,
   "metadata": {},
   "outputs": [],
   "source": [
    "# 모델 파라미터 설정\n",
    "def langchain_param():\n",
    "    params = {\n",
    "        \"temperature\": 0.7,         # 생성된 텍스트의 다양성 조정\n",
    "        \"max_tokens\": 500,          # 생성할 최대 토큰 수\n",
    "        \"frequency_penalty\": 0.5,   # 이미 등장한 단어의 재등장 확률\n",
    "        \"presence_penalty\": 0.5,    # 새로운 단어의 도입을 장려\n",
    "    }\n",
    "    return params"
   ]
  },
  {
   "cell_type": "code",
   "execution_count": 3,
   "metadata": {},
   "outputs": [],
   "source": [
    "from langchain_openai import ChatOpenAI\n",
    "import streamlit as st\n",
    "\n",
    "@st.cache_resource\n",
    "def get_client(model_id: str = \"gpt-4o-mini\"):\n",
    "    try:\n",
    "        return ChatOpenAI(model=model_id, **langchain_param())\n",
    "    except Exception as e:\n",
    "        st.error(f\"ChatOpenAI를 불러오지 못했습니다.: {e}\")\n",
    "        return None\n"
   ]
  },
  {
   "cell_type": "code",
   "execution_count": 4,
   "metadata": {},
   "outputs": [],
   "source": [
    "from typing import TypedDict, Annotated, Union\n",
    "from langchain_core.agents import AgentAction, AgentFinish\n",
    "from langchain_core.messages import BaseMessage\n",
    "import operator\n",
    "\n",
    "class AgentState(TypedDict):\n",
    "    input: str\n",
    "    # 대화 내용 중 '이전 메시지' 목록\n",
    "    chat_history: list[BaseMessage] \n",
    "    # 유효한 유형으로 `None`이 필요\n",
    "    agent_outcome: Union[AgentAction, AgentFinish, None] \n",
    "    intermediate_steps: Annotated[list[tuple[AgentAction, str]], operator.add]"
   ]
  },
  {
   "cell_type": "code",
   "execution_count": 5,
   "metadata": {},
   "outputs": [],
   "source": [
    "from langchain import hub\n",
    "from langchain_core.prompts import ChatPromptTemplate\n",
    "\n",
    "def get_prompt():\n",
    "    prompt = hub.pull(\"hwchase17/openai-functions-agent\")\n",
    "\n",
    "    # 또는 PromptTemplate 객체와 결합하려면 아래와 같이 하세요\n",
    "    additional_prompt = ChatPromptTemplate.from_template(\"\\n\\nYou are a helpful assistant. You must answer in Korean.\")\n",
    "    formatted_prompt = additional_prompt.format()  # 템플릿을 실제 텍스트로 변환\n",
    "\n",
    "    # 두 텍스트를 결합하려면\n",
    "    combined_prompt = prompt + formatted_prompt\n",
    "\n",
    "    return combined_prompt\n"
   ]
  },
  {
   "cell_type": "code",
   "execution_count": 6,
   "metadata": {},
   "outputs": [
    {
     "name": "stderr",
     "output_type": "stream",
     "text": [
      "<>:8: SyntaxWarning: invalid escape sequence '\\d'\n",
      "<>:8: SyntaxWarning: invalid escape sequence '\\d'\n",
      "C:\\Users\\USER\\AppData\\Local\\Temp\\ipykernel_19664\\2469746211.py:8: SyntaxWarning: invalid escape sequence '\\d'\n",
      "  file_path = \"C:\\dev\\github\\SKN03-4th-2Team\\SKN03-4th-2Team\\PJY_MiniProject\\data\\다이어트.txt\"\n"
     ]
    }
   ],
   "source": [
    "from langchain.text_splitter import RecursiveCharacterTextSplitter\n",
    "from langchain_community.vectorstores import FAISS\n",
    "from langchain_openai import OpenAIEmbeddings\n",
    "from langchain_community.document_loaders import TextLoader\n",
    "from langchain.tools.retriever import create_retriever_tool\n",
    "\n",
    "def get_retriever_tool():\n",
    "    file_path = \"C:\\dev\\github\\SKN03-4th-2Team\\SKN03-4th-2Team\\PJY_MiniProject\\data\\다이어트.txt\"\n",
    "    # 파일의 경로 입력\n",
    "    loader = TextLoader(file_path, encoding='utf-8')\n",
    "    # 텍스트 분할기를 사용하여 문서를 분할합니다.\n",
    "    text_splitter = RecursiveCharacterTextSplitter(chunk_size=1000, chunk_overlap=100)\n",
    "\n",
    "    # 문서를 로드하고 분할합니다.\n",
    "    split_docs = loader.load_and_split(text_splitter)\n",
    "\n",
    "    # VectorStore를 생성, 임베딩\n",
    "    vector = FAISS.from_documents(split_docs, OpenAIEmbeddings())\n",
    "\n",
    "    # Retriever를 생성합니다.\n",
    "    retriever = vector.as_retriever()\n",
    "\n",
    "    retriever_tool = create_retriever_tool(\n",
    "        retriever,\n",
    "        name=\"txt_search\",\n",
    "        description=\"다이어트 관련 질문은 이 유능한 다이어트 챗봇에 부탁드릴게요\",\n",
    "    )\n",
    "    return retriever_tool"
   ]
  },
  {
   "cell_type": "code",
   "execution_count": 7,
   "metadata": {},
   "outputs": [],
   "source": [
    "from langchain_community.tools.tavily_search import TavilySearchResults\n",
    "# TavilySearchResults 클래스의 인스턴스를 생성합니다\n",
    "# k=5은 검색 결과를 5개까지 가져오겠다는 의미입니다\n",
    "from dotenv import load_dotenv\n",
    "\n",
    "load_dotenv(\"C:\\\\dev\\\\github\\\\SKN03-4th-2Team\\\\SKN03-4th-2Team\\\\PJY_MiniProject\\\\.env\")\n",
    "\n",
    "search = TavilySearchResults(\n",
    "    max_results=6,\n",
    "    include_answer=True,\n",
    "    include_raw_content=True,\n",
    "    include_domains=[\"github.io\", \"wikidocs.net\"],\n",
    ")\n",
    "\n",
    "def get_tools():\n",
    "    return [search, get_retriever_tool()]"
   ]
  },
  {
   "cell_type": "code",
   "execution_count": 8,
   "metadata": {},
   "outputs": [],
   "source": [
    "from langgraph.graph import StateGraph, END\n",
    "from langchain_core.agents import AgentFinish\n",
    "from IPython.display import Image, display\n",
    "\n",
    "def build_workflow(agent_runnable):\n",
    "    def run_agent(data):\n",
    "        return {\"agent_outcome\": agent_runnable.invoke(data)}\n",
    "\n",
    "    def execute_tools(data):\n",
    "        agent_action = data['agent_outcome']\n",
    "        output = agent_excute(agent_action, get_tools())\n",
    "        return {\"intermediate_steps\": [(agent_action, str(output))]}\n",
    "\n",
    "    def should_continue(data):\n",
    "        if isinstance(data['agent_outcome'], AgentFinish):\n",
    "            return \"end\"\n",
    "        else:\n",
    "            return \"continue\"\n",
    "\n",
    "    workflow = StateGraph(state_schema=AgentState)\n",
    "    workflow.add_node(\"agent\", run_agent)\n",
    "    workflow.add_node(\"action\", execute_tools)\n",
    "    workflow.set_entry_point(\"agent\")\n",
    "    workflow.add_conditional_edges(\n",
    "        \"agent\",\n",
    "        should_continue,\n",
    "        {\n",
    "            \"continue\": \"action\",\n",
    "            \"end\": END\n",
    "        }\n",
    "    )\n",
    "    workflow.add_edge('action', 'agent')\n",
    "    \n",
    "    return workflow\n"
   ]
  },
  {
   "cell_type": "code",
   "execution_count": 9,
   "metadata": {},
   "outputs": [
    {
     "name": "stderr",
     "output_type": "stream",
     "text": [
      "2024-11-06 19:29:12.275 WARNING streamlit.runtime.scriptrunner_utils.script_run_context: Thread 'MainThread': missing ScriptRunContext! This warning can be ignored when running in bare mode.\n",
      "2024-11-06 19:29:12.476 \n",
      "  \u001b[33m\u001b[1mWarning:\u001b[0m to view this Streamlit app on a browser, run it with the following\n",
      "  command:\n",
      "\n",
      "    streamlit run c:\\dev\\github\\SKN03-4th-2Team\\SKN03-4th-2Team\\.venv\\Lib\\site-packages\\ipykernel_launcher.py [ARGUMENTS]\n",
      "2024-11-06 19:29:12.477 Thread 'MainThread': missing ScriptRunContext! This warning can be ignored when running in bare mode.\n",
      "2024-11-06 19:29:12.477 Thread 'MainThread': missing ScriptRunContext! This warning can be ignored when running in bare mode.\n",
      "2024-11-06 19:29:12.862 Thread 'MainThread': missing ScriptRunContext! This warning can be ignored when running in bare mode.\n",
      "2024-11-06 19:29:12.862 Thread 'MainThread': missing ScriptRunContext! This warning can be ignored when running in bare mode.\n",
      "C:\\Users\\USER\\AppData\\Local\\Temp\\ipykernel_19664\\1188859961.py:9: LangGraphDeprecationWarning: ToolExecutor is deprecated as of version 0.2.0 and will be removed in 0.3.0. Use langgraph.prebuilt.ToolNode instead.\n",
      "  tool_executor = ToolExecutor(tools)\n",
      "C:\\Users\\USER\\AppData\\Local\\Temp\\ipykernel_19664\\1188859961.py:9: LangGraphDeprecationWarning: ToolExecutor is deprecated as of version 0.2.0 and will be removed in 0.3.0. Use langgraph.prebuilt.ToolNode instead.\n",
      "  tool_executor = ToolExecutor(tools)\n"
     ]
    },
    {
     "data": {
      "image/jpeg": "[encoded data removed]",
      "text/plain": [
       "<IPython.core.display.Image object>"
      ]
     },
     "metadata": {},
     "output_type": "display_data"
    }
   ],
   "source": [
    "from IPython.display import Image\n",
    "\n",
    "prompt = \"다이어트 방법좀 알려줘\"\n",
    "message_history = []\n",
    "message_history.append(\n",
    "    {\n",
    "        \"role\": \"user\",\n",
    "        \"content\": prompt\n",
    "    }\n",
    ")\n",
    "\n",
    "tools = get_tools()\n",
    "agent_runnable = create_agent(get_client(), tools, get_prompt())\n",
    "\n",
    "inputs = {\n",
    "    \"input\": prompt,\n",
    "    \"chat_history\": message_history,\n",
    "    \"intermediate_steps\": []\n",
    "}\n",
    "\n",
    "# 에이전트 실행\n",
    "agent_outcome = agent_runnable.invoke(inputs)\n",
    "\n",
    "# 에이전트 완료 상태 확인\n",
    "if is_agent_finish(agent_outcome):\n",
    "    agent_outcome.return_values['output']\n",
    "\n",
    "output = agent_excute(agent_outcome, tools)\n",
    "\n",
    "# 상태 그래프 설정 및 실행\n",
    "workflow = build_workflow(agent_runnable)\n",
    "app = workflow.compile()\n",
    "output = app.invoke(inputs)\n",
    "\n",
    "display(Image(app.get_graph().draw_mermaid_png()))\n"
   ]
  }
 ],
 "metadata": {
  "kernelspec": {
   "display_name": ".venv",
   "language": "python",
   "name": "python3"
  },
  "language_info": {
   "codemirror_mode": {
    "name": "ipython",
    "version": 3
   },
   "file_extension": ".py",
   "mimetype": "text/x-python",
   "name": "python",
   "nbconvert_exporter": "python",
   "pygments_lexer": "ipython3",
   "version": "3.12.4"
  }
 },
 "nbformat": 4,
 "nbformat_minor": 2
}
